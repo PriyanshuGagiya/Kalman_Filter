{
 "cells": [
  {
   "attachments": {},
   "cell_type": "markdown",
   "metadata": {},
   "source": [
    "# **CT216 - Project**\n",
    "# Kalman Filter"
   ]
  },
  {
   "attachments": {},
   "cell_type": "markdown",
   "metadata": {},
   "source": [
    "**Model for Airplane movement in XY Direction.**"
   ]
  },
  {
   "attachments": {},
   "cell_type": "markdown",
   "metadata": {},
   "source": [
    "1) Import libraries.    "
   ]
  },
  {
   "cell_type": "code",
   "execution_count": 1,
   "metadata": {},
   "outputs": [],
   "source": [
    "import numpy as np\n",
    "import matplotlib.pyplot as plt\n",
    "import seaborn as sb"
   ]
  },
  {
   "attachments": {},
   "cell_type": "markdown",
   "metadata": {},
   "source": [
    "2) Write down initial conditions."
   ]
  },
  {
   "cell_type": "code",
   "execution_count": 2,
   "metadata": {},
   "outputs": [],
   "source": [
    "itr = 50\n",
    "\n",
    "# Initial Observations\n",
    "ini_Vx = 25 # m/s\n",
    "ini_Vy = 15 # m/s\n",
    "ini_X = 150 # m\n",
    "ini_Y = 280 # m\n",
    "ini_observation = np.array([ini_X, ini_Y, ini_Vx, ini_Vy])\n",
    "\n",
    "# Assuming accelaration is constant\n",
    "ini_Ax = 2 # m/s²\n",
    "ini_Ay = 1 # m/s²\n",
    "ini_accelaration = np.array([ini_Ax, ini_Ay])\n",
    "\n",
    "# Process errors in Process Covariance Matrix (Error due to machine or any other process in calculations)\n",
    "del_PX = 20 # m\n",
    "del_PY = 15 # m\n",
    "del_PVx = 5 # m/s\n",
    "del_PVy = 3.5 # m/s\n",
    "process_errors = np.array([del_PX, del_PY, del_PVx, del_PVy])\n",
    "\n",
    "# Observation errors \n",
    "del_X = 25 # m\n",
    "del_Y = 18 # m\n",
    "del_Vx = 6 # m/s\n",
    "del_Vy = 5 # m/s\n",
    "observation_errors = np.array([del_X, del_Y, del_Vx, del_Vy])\n",
    "\n",
    "# Time difference between each ebservation\n",
    "del_T = 1 # s"
   ]
  },
  {
   "attachments": {},
   "cell_type": "markdown",
   "metadata": {},
   "source": [
    "3) Write down Observed State matrix."
   ]
  },
  {
   "cell_type": "code",
   "execution_count": 3,
   "metadata": {},
   "outputs": [
    {
     "data": {
      "text/plain": [
       "array([[ 150.        ,  280.        ,   25.        ,   15.        ],\n",
       "       [ 176.46731853,  283.30645723,   22.80245524,   18.68758386],\n",
       "       [ 190.77479315,  317.51478844,   25.96608685,   15.02927798],\n",
       "       [ 238.22543054,  323.0120252 ,   36.43105142,   14.39332045],\n",
       "       [ 263.30131044,  353.69855484,   29.67540786,   15.87244641],\n",
       "       [ 305.32149083,  372.48558561,   34.80295614,   15.78485288],\n",
       "       [ 319.09978159,  376.39832095,   40.40963308,   24.78664723],\n",
       "       [ 357.16724248,  382.01405718,   41.5972169 ,   17.17156081],\n",
       "       [ 413.3629775 ,  412.91310974,   36.0168935 ,   24.63654037],\n",
       "       [ 453.70155986,  441.39346208,   41.56391801,   24.79521061],\n",
       "       [ 493.36264785,  463.57605763,   45.37796926,   22.09172049],\n",
       "       [ 553.67764713,  499.43578576,   41.86397119,   25.15892373],\n",
       "       [ 611.18886917,  520.20782723,   47.98910758,   23.35224005],\n",
       "       [ 641.16291785,  546.26558568,   56.1380473 ,   28.18356952],\n",
       "       [ 698.04479044,  573.28499851,   48.41870535,   32.1352137 ],\n",
       "       [ 767.87630649,  595.73350849,   57.57213608,   33.10397698],\n",
       "       [ 808.42010874,  609.44128011,   55.69128427,   27.6225617 ],\n",
       "       [ 874.08459075,  626.64638554,   62.47216188,   29.16883072],\n",
       "       [ 913.85060867,  656.17281369,   58.24715382,   37.86611589],\n",
       "       [ 990.82557852,  704.17176918,   68.41982131,   36.67447881],\n",
       "       [1071.11217846,  723.17806667,   61.81866712,   39.48491933],\n",
       "       [1129.53792017,  749.71909628,   63.85762508,   34.384105  ],\n",
       "       [1187.60120685,  783.14919469,   74.54510733,   36.85630685],\n",
       "       [1279.7323949 ,  830.68383409,   65.66530291,   35.62634326],\n",
       "       [1357.27891378,  862.39372998,   70.80204151,   35.19424596],\n",
       "       [1428.40915416,  919.8023119 ,   77.88558402,   41.07173528],\n",
       "       [1523.33419278,  961.93427639,   77.50474143,   38.20838693],\n",
       "       [1580.1604371 , 1020.33982054,   76.73551177,   39.57317126],\n",
       "       [1674.22040092, 1080.80014443,   84.5437373 ,   44.61129558],\n",
       "       [1732.27336672, 1108.96444826,   87.57511354,   46.30014825],\n",
       "       [1793.13969641, 1170.52557515,   82.24166544,   48.45987665],\n",
       "       [1864.75772643, 1233.74722206,   83.40605752,   48.68795031],\n",
       "       [1940.30677361, 1285.09497115,   91.53915132,   51.69567875],\n",
       "       [2008.36872469, 1350.90034014,   87.18424125,   51.1595457 ],\n",
       "       [2120.17733056, 1402.73701331,   87.55465125,   45.35674344],\n",
       "       [2234.99918886, 1464.00949681,   89.10035992,   53.3688312 ],\n",
       "       [2309.89267604, 1522.2563503 ,   98.94772832,   55.46197432],\n",
       "       [2405.46090366, 1575.84946612,   99.73400851,   53.06978981],\n",
       "       [2499.51923645, 1610.91263514,  104.42602474,   50.26514283],\n",
       "       [2593.73515559, 1650.42262868,   97.20182594,   54.07528947],\n",
       "       [2711.57186072, 1696.26191065,  110.3834937 ,   58.55488806],\n",
       "       [2794.59543488, 1764.37424562,  107.94200789,   60.2782851 ],\n",
       "       [2922.65054095, 1829.16315552,  111.93306895,   55.2118831 ],\n",
       "       [3048.31299566, 1878.83661664,  112.95189442,   56.54872011],\n",
       "       [3180.40043847, 1929.27837881,  115.24800516,   57.89951517],\n",
       "       [3290.64175088, 1996.55522563,  109.62386593,   63.54619942],\n",
       "       [3395.69319802, 2073.00358656,  115.12257549,   62.78819963],\n",
       "       [3499.72746734, 2134.01820661,  116.3160974 ,   64.74325301],\n",
       "       [3598.80953479, 2200.44286641,  120.14557448,   59.50480034],\n",
       "       [3740.72645344, 2268.46741929,  125.21070773,   68.19966843],\n",
       "       [3843.5848068 , 2342.32330627,  130.36198538,   64.27828491]])"
      ]
     },
     "execution_count": 3,
     "metadata": {},
     "output_type": "execute_result"
    }
   ],
   "source": [
    "X = np.array([ini_observation])\n",
    "\n",
    "# Generate Position Vectors based on velocity vector\n",
    "for i in range(1,itr+1):\n",
    "    perfVx = ini_Vx + ini_Ax*i*del_T\n",
    "    perfVy = ini_Vy + ini_Ay*i*del_T\n",
    "    perfX = X[i-1][0] + perfVx\n",
    "    perfY = X[i-1][1] + perfVy\n",
    "    \n",
    "    random_Vx_err = np.random.uniform(-del_Vx, del_Vx, size=1)\n",
    "    random_Vy_err = np.random.uniform(-del_Vy, del_Vy, size=1)\n",
    "    random_X_err = np.random.uniform(-del_X, del_X, size=1)\n",
    "    random_Y_err = np.random.uniform(-del_Y, del_Y, size=1)\n",
    "        \n",
    "    X = np.append(X, [[perfX+random_X_err[0], perfY+random_Y_err[0], perfVx+random_Vx_err[0], perfVy+random_Vy_err[0]]], axis=0)\n",
    "    # X = np.append(X, [[curr_X, curr_Y, random_Vx[1], random_Vy[1]]], axis=0)\n",
    "    \n",
    "np.array(X)"
   ]
  },
  {
   "attachments": {},
   "cell_type": "markdown",
   "metadata": {},
   "source": [
    "4) Generate A and B matrix according to shape of state matrix."
   ]
  },
  {
   "cell_type": "code",
   "execution_count": 4,
   "metadata": {},
   "outputs": [],
   "source": [
    "# A matrix\n",
    "A = np.array([[1, 0, del_T, 0],\n",
    "              [0, 1, 0, del_T],\n",
    "              [0, 0, 1, 0],\n",
    "              [0, 0, 0, 1]])\n",
    "\n",
    "# B matrix\n",
    "B = np.array([[(del_T**2)*0.5, 0],\n",
    "              [0, (del_T**2)*0.5],\n",
    "              [del_T, 0],\n",
    "              [0, del_T]])\n",
    "\n",
    "# print(A, B)"
   ]
  },
  {
   "attachments": {},
   "cell_type": "markdown",
   "metadata": {},
   "source": [
    "5. Function to generate covariance matrix."
   ]
  },
  {
   "cell_type": "code",
   "execution_count": 5,
   "metadata": {},
   "outputs": [],
   "source": [
    "def generate_Covariance(dim, errors):\n",
    "    cov_mat = errors**2 * np.identity(dim)\n",
    "    # print(cov_mat)\n",
    "    return cov_mat"
   ]
  },
  {
   "attachments": {},
   "cell_type": "markdown",
   "metadata": {},
   "source": [
    "6. Calculate Measurement Noice Covariance matrix R, Process Noice Covariance matrix Q and State Covariance Matrix P."
   ]
  },
  {
   "cell_type": "code",
   "execution_count": 6,
   "metadata": {},
   "outputs": [
    {
     "name": "stdout",
     "output_type": "stream",
     "text": [
      "[20.  15.   5.   3.5]\n",
      "[[400.     0.     0.     0.  ]\n",
      " [  0.   225.     0.     0.  ]\n",
      " [  0.     0.    25.     0.  ]\n",
      " [  0.     0.     0.    12.25]]\n"
     ]
    }
   ],
   "source": [
    "# R = Measurement Covariance Matrix --> Error in the measurement\n",
    "# Needs to generate only once in whole process\n",
    "R = generate_Covariance(observation_errors.shape[0], observation_errors)\n",
    "# print(R)\n",
    "\n",
    "# Q = Process Covariance Matrix --> Error in the process\n",
    "Q = generate_Covariance(process_errors.shape[0], process_errors)\n",
    "print(process_errors)\n",
    "print(Q)\n",
    "\n",
    "# P = State Covariance Matrix --> Error in the estimate \n",
    "P = generate_Covariance(process_errors.shape[0], process_errors)\n",
    "\n",
    "# Let's keep P and Q keep same in first iteration\n",
    "# Q will be constant in every iteration, but P will change"
   ]
  },
  {
   "attachments": {},
   "cell_type": "markdown",
   "metadata": {},
   "source": [
    "7. Define function to calculate Normal Distribution"
   ]
  },
  {
   "cell_type": "code",
   "execution_count": 7,
   "metadata": {},
   "outputs": [],
   "source": [
    "def Normal_Distribution(prev_state, mean, variance):\n",
    "    ans = []\n",
    "    \n",
    "    for ix in range(variance.shape[0]):\n",
    "        for iy in range(variance.shape[1]):\n",
    "            if ix==iy:\n",
    "                value = (1 / (np.sqrt(variance[ix][iy]*2*np.pi))) * np.exp(-0.5 * (np.square(prev_state[ix]-mean)/variance[ix][iy]))\n",
    "                ans.append(value)\n",
    "    \n",
    "    return np.array(ans)"
   ]
  },
  {
   "attachments": {},
   "cell_type": "markdown",
   "metadata": {},
   "source": [
    "8) Function to predict state."
   ]
  },
  {
   "cell_type": "code",
   "execution_count": 8,
   "metadata": {},
   "outputs": [],
   "source": [
    "Uk = np.array([ini_Ax, ini_Ay])\n",
    "\n",
    "# Assuming their is no noice\n",
    "def predict_state(A, B, prev_state, W):\n",
    "    curr_state = np.matmul(A, prev_state) + np.matmul(B, Uk) + W\n",
    "    curr_state = np.array(curr_state)\n",
    "    \n",
    "    return curr_state"
   ]
  },
  {
   "attachments": {},
   "cell_type": "markdown",
   "metadata": {},
   "source": [
    "9. Function to generate Predicted Process Covariance Matrix."
   ]
  },
  {
   "cell_type": "code",
   "execution_count": 9,
   "metadata": {},
   "outputs": [],
   "source": [
    "# This function will run only  one time, on 1st iteration\n",
    "def predict_process_covariance(first_PC, A, Q):\n",
    "    predicted_P = np.matmul(A, np.matmul(first_PC, np.transpose(A))) + Q\n",
    "    \n",
    "    # Make predicted_P a diagonal Matrix\n",
    "    predicted_P = np.multiply(predicted_P, np.identity(predicted_P.shape[0]))\n",
    "    return predicted_P"
   ]
  },
  {
   "attachments": {},
   "cell_type": "markdown",
   "metadata": {},
   "source": [
    "10. Update Process Covariance Matrix."
   ]
  },
  {
   "cell_type": "code",
   "execution_count": 10,
   "metadata": {},
   "outputs": [],
   "source": [
    "def update_proccess_covariance(prev_PC, K):\n",
    "    updated_PC = (np.identity(K.shape[0]) - K) * prev_PC\n",
    "    \n",
    "    return updated_PC"
   ]
  },
  {
   "attachments": {},
   "cell_type": "markdown",
   "metadata": {},
   "source": [
    "11. Function to calculate Kalman Gain."
   ]
  },
  {
   "cell_type": "code",
   "execution_count": 11,
   "metadata": {},
   "outputs": [],
   "source": [
    "def Kalman_Gain(predicted_P, R):\n",
    "    if predicted_P.shape == R.shape:\n",
    "        K = np.divide(predicted_P, predicted_P + R, where = predicted_P!=0)\n",
    "    \n",
    "    # Make K a diagonal Matrix\n",
    "    K = np.multiply(K, np.identity(K.shape[0]))\n",
    "    return K"
   ]
  },
  {
   "attachments": {},
   "cell_type": "markdown",
   "metadata": {},
   "source": [
    "12. Function to calculate new observation Y."
   ]
  },
  {
   "cell_type": "code",
   "execution_count": 12,
   "metadata": {},
   "outputs": [],
   "source": [
    "def new_Observation(observed_state, V):\n",
    "    Y = observed_state + V\n",
    "    return Y"
   ]
  },
  {
   "attachments": {},
   "cell_type": "markdown",
   "metadata": {},
   "source": [
    "13. Function to calculate next state based on Kalman Gain."
   ]
  },
  {
   "cell_type": "code",
   "execution_count": 13,
   "metadata": {},
   "outputs": [],
   "source": [
    "def generate_State(curr_state_equ, K, new_Obs):\n",
    "    predicted_state = curr_state_equ + np.matmul(K, new_Obs - curr_state_equ)\n",
    "    return predicted_state"
   ]
  },
  {
   "attachments": {},
   "cell_type": "markdown",
   "metadata": {},
   "source": [
    "14. Final Loop for itr Iterations."
   ]
  },
  {
   "cell_type": "code",
   "execution_count": 14,
   "metadata": {},
   "outputs": [],
   "source": [
    "final_prediction = np.array([X[0]])\n",
    "final_observation = np.array([])\n",
    "final_calculated = np.array([])\n",
    "\n",
    "for curr_itr in range(itr):\n",
    "\n",
    "    # Calculating W and V for current iteration\n",
    "    W = Normal_Distribution(X[curr_itr], 0, Q)\n",
    "    V = Normal_Distribution(X[curr_itr], 0, R)\n",
    "\n",
    "    if curr_itr == 0:\n",
    "        # Calculating State\n",
    "        curr_state = predict_state(A, B, X[curr_itr], W)\n",
    "        final_calculated = np.append(final_calculated, curr_state)\n",
    "        curr_P = predict_process_covariance(P, A, Q)\n",
    "\n",
    "        # Calculate Kalman Gain\n",
    "        curr_KGain = Kalman_Gain(curr_P, R)\n",
    "\n",
    "        # Calculate new observation Y\n",
    "        new_Obs = new_Observation(X[curr_itr], V)\n",
    "        final_observation = np.append(final_observation, new_Obs)\n",
    "\n",
    "        # Calculate new Predicted state based on Kalman Gain calculations\n",
    "        predicted_state = generate_State(curr_state, curr_KGain, new_Obs)\n",
    "        # final_prediction = np.append(final_prediction, predicted_state)\n",
    "\n",
    "        # Calculate new Process Covariance Matrix\n",
    "        updated_PC = update_proccess_covariance(curr_P, curr_KGain)\n",
    "\n",
    "    else:\n",
    "        curr_state = predict_state(A, B, prev_state, W)\n",
    "        final_calculated = np.append(final_calculated, curr_state)\n",
    "\n",
    "        curr_P = predict_process_covariance(prev_PC, A, Q)\n",
    "        curr_KGain = Kalman_Gain(curr_P, R)\n",
    "        \n",
    "        # new_Obs = new_Observation(X[curr_itr+1], V)\n",
    "        new_Obs = X[curr_itr]\n",
    "        final_observation = np.append(final_observation, new_Obs)\n",
    "\n",
    "        predicted_state = generate_State(curr_state, curr_KGain, new_Obs)\n",
    "        final_prediction = np.append(final_prediction, predicted_state)\n",
    "        \n",
    "        updated_PC = update_proccess_covariance(curr_P, curr_KGain)\n",
    "\n",
    "    prev_state = predicted_state\n",
    "    prev_PC = updated_PC\n",
    "\n",
    "# print(final_calculated)\n"
   ]
  },
  {
   "cell_type": "code",
   "execution_count": 15,
   "metadata": {},
   "outputs": [
    {
     "name": "stdout",
     "output_type": "stream",
     "text": [
      "[[ 150.          280.           25.           15.        ]\n",
      " [ 181.62987463  291.5313609    25.01472132   17.58826689]\n",
      " [ 198.35212743  314.08479465   26.43110375   16.82113396]\n",
      " [ 232.62812719  326.66422524   32.87709005   16.11886234]\n",
      " [ 264.7431174   349.16548196   31.98706486   16.49985708]\n",
      " [ 301.9050403   369.73470952   34.44034404   16.64812827]\n",
      " [ 327.3112984   380.96173339   38.64551063   21.1933756 ]\n",
      " [ 361.57309603  390.99814356   41.17423662   19.69935897]\n",
      " [ 409.03539546  412.16638575   39.19793447   22.65470765]\n",
      " [ 451.6906043   438.75044239   41.40125866   24.22112327]\n",
      " [ 493.6908358   463.53057714   44.49943122   23.66694699]\n",
      " [ 547.15750849  494.3266663    43.92417564   24.9112807 ]\n",
      " [ 602.58955759  520.00331022   47.07136005   24.64036719]\n",
      " [ 645.43755378  545.77727118   52.99729741   26.90341481]\n",
      " [ 698.67039623  573.23959612   51.34252404   30.00508146]\n",
      " [ 760.286831    599.22039788   55.69230851   32.04747001]\n",
      " [ 812.27215562  619.1590056    56.58062837   30.35326143]\n",
      " [ 872.18003889  636.81646725   60.74259143   30.26839296]\n",
      " [ 922.88415118  661.13994689   60.24512609   34.54506433]\n",
      " [ 987.81186505  700.69550482   65.67551232   36.10597301]\n",
      " [1063.63007975  729.32533082   64.42170943   38.28744507]\n",
      " [1129.31913379  757.72500972   64.99721813   36.85226642]\n",
      " [1191.07345753  788.3409339    71.19048991   37.35763634]\n",
      " [1272.32066414  828.7316073    69.00983047   37.00117595]\n",
      " [1350.55128153  864.06469136   70.89439216   36.60715149]\n",
      " [1425.7252514   911.69333503   75.66727652   39.32779097]\n",
      " [1513.90926175  957.40191622   77.57697925   39.27521713]\n",
      " [1585.70774446 1010.25817986   77.9983862    39.92655539]\n",
      " [1669.93844237 1067.69230717   82.52358126   42.75653261]\n",
      " [1741.80945811 1109.82816161   86.21887697   45.01978549]\n",
      " [1809.2916092  1163.91945941   84.8982039    47.23162432]\n",
      " [1878.45388287 1224.1298005    84.95812258   48.45825255]\n",
      " [1951.15548832 1279.86891802   89.50313855   50.56944053]\n",
      " [2023.35105939 1342.21181777   89.10375116   51.36587171]\n",
      " [2117.15181717 1398.9680123    89.13202899   48.88488135]\n",
      " [2222.52572052 1457.19490548   90.00332395   51.61513872]\n",
      " [2311.52924706 1516.62142525   95.86132638   54.02898177]\n",
      " [2406.77942039 1573.8041842    98.90170534   54.05597514]\n",
      " [2502.74249081 1618.50673112  102.85966056   52.67667197]\n",
      " [2599.52602985 1659.67645517  100.605308     53.87464005]\n",
      " [2706.87303621 1704.00471551  106.92652228   56.70238629]\n",
      " [2803.68843073 1762.99573519  108.37956984   58.98167219]\n",
      " [2918.33785698 1826.25316023  111.2426249    57.61281986]\n",
      " [3040.33236372 1881.24329144  113.08110797   57.58771216]\n",
      " [3168.70483684 1933.65381894  115.17382863   58.24592828]\n",
      " [3288.04803721 1994.74653911  112.97940491   61.38160076]\n",
      " [3398.54396534 2065.87611606  115.05894412   62.58353268]\n",
      " [3506.42225579 2131.81645159  116.6462515    64.15949237]\n",
      " [3610.17749791 2198.71624953  119.47920871   62.35116476]\n",
      " [3736.19449908 2265.46416796  123.55226372   65.75910964]]\n"
     ]
    }
   ],
   "source": [
    "finali = []\n",
    "for i in range(int(final_prediction.shape[0]/4)):\n",
    "    tempi = []\n",
    "    for j in range( 4*i , 4*i + 4 ):\n",
    "        tempi.append(final_prediction[j])\n",
    "    finali.append(tempi)\n",
    "\n",
    "    \n",
    "finali = np.array(finali)\n",
    "print(finali)\n",
    "# print(np.array(finali))"
   ]
  },
  {
   "cell_type": "code",
   "execution_count": 16,
   "metadata": {},
   "outputs": [
    {
     "name": "stdout",
     "output_type": "stream",
     "text": [
      "[[ 150.          280.           25.00001129   15.00088637]\n",
      " [ 176.46731853  283.30645723   22.80245524   18.68758386]\n",
      " [ 190.77479315  317.51478844   25.96608685   15.02927798]\n",
      " [ 238.22543054  323.0120252    36.43105142   14.39332045]\n",
      " [ 263.30131044  353.69855484   29.67540786   15.87244641]\n",
      " [ 305.32149083  372.48558561   34.80295614   15.78485288]\n",
      " [ 319.09978159  376.39832095   40.40963308   24.78664723]\n",
      " [ 357.16724248  382.01405718   41.5972169    17.17156081]\n",
      " [ 413.3629775   412.91310974   36.0168935    24.63654037]\n",
      " [ 453.70155986  441.39346208   41.56391801   24.79521061]\n",
      " [ 493.36264785  463.57605763   45.37796926   22.09172049]\n",
      " [ 553.67764713  499.43578576   41.86397119   25.15892373]\n",
      " [ 611.18886917  520.20782723   47.98910758   23.35224005]\n",
      " [ 641.16291785  546.26558568   56.1380473    28.18356952]\n",
      " [ 698.04479044  573.28499851   48.41870535   32.1352137 ]\n",
      " [ 767.87630649  595.73350849   57.57213608   33.10397698]\n",
      " [ 808.42010874  609.44128011   55.69128427   27.6225617 ]\n",
      " [ 874.08459075  626.64638554   62.47216188   29.16883072]\n",
      " [ 913.85060867  656.17281369   58.24715382   37.86611589]\n",
      " [ 990.82557852  704.17176918   68.41982131   36.67447881]\n",
      " [1071.11217846  723.17806667   61.81866712   39.48491933]\n",
      " [1129.53792017  749.71909628   63.85762508   34.384105  ]\n",
      " [1187.60120685  783.14919469   74.54510733   36.85630685]\n",
      " [1279.7323949   830.68383409   65.66530291   35.62634326]\n",
      " [1357.27891378  862.39372998   70.80204151   35.19424596]\n",
      " [1428.40915416  919.8023119    77.88558402   41.07173528]\n",
      " [1523.33419278  961.93427639   77.50474143   38.20838693]\n",
      " [1580.1604371  1020.33982054   76.73551177   39.57317126]\n",
      " [1674.22040092 1080.80014443   84.5437373    44.61129558]\n",
      " [1732.27336672 1108.96444826   87.57511354   46.30014825]\n",
      " [1793.13969641 1170.52557515   82.24166544   48.45987665]\n",
      " [1864.75772643 1233.74722206   83.40605752   48.68795031]\n",
      " [1940.30677361 1285.09497115   91.53915132   51.69567875]\n",
      " [2008.36872469 1350.90034014   87.18424125   51.1595457 ]\n",
      " [2120.17733056 1402.73701331   87.55465125   45.35674344]\n",
      " [2234.99918886 1464.00949681   89.10035992   53.3688312 ]\n",
      " [2309.89267604 1522.2563503    98.94772832   55.46197432]\n",
      " [2405.46090366 1575.84946612   99.73400851   53.06978981]\n",
      " [2499.51923645 1610.91263514  104.42602474   50.26514283]\n",
      " [2593.73515559 1650.42262868   97.20182594   54.07528947]\n",
      " [2711.57186072 1696.26191065  110.3834937    58.55488806]\n",
      " [2794.59543488 1764.37424562  107.94200789   60.2782851 ]\n",
      " [2922.65054095 1829.16315552  111.93306895   55.2118831 ]\n",
      " [3048.31299566 1878.83661664  112.95189442   56.54872011]\n",
      " [3180.40043847 1929.27837881  115.24800516   57.89951517]\n",
      " [3290.64175088 1996.55522563  109.62386593   63.54619942]\n",
      " [3395.69319802 2073.00358656  115.12257549   62.78819963]\n",
      " [3499.72746734 2134.01820661  116.3160974    64.74325301]\n",
      " [3598.80953479 2200.44286641  120.14557448   59.50480034]\n",
      " [3740.72645344 2268.46741929  125.21070773   68.19966843]]\n"
     ]
    }
   ],
   "source": [
    "final0 = []\n",
    "for i in range(int(final_observation.shape[0]/4)):\n",
    "    temp0 = []\n",
    "    for j in range(4*i, 4*i + 4):\n",
    "        temp0.append(final_observation[j])\n",
    "    final0.append(temp0)\n",
    "    \n",
    "\n",
    "final0 = np.array(final0)\n",
    "print(final0)"
   ]
  },
  {
   "cell_type": "code",
   "execution_count": 17,
   "metadata": {},
   "outputs": [
    {
     "name": "stdout",
     "output_type": "stream",
     "text": [
      "[[ 176.          295.5          27.0000003    16.00001171]\n",
      " [ 188.04411254  302.39277652   27.83721842   16.5054952 ]\n",
      " [ 207.64459596  309.61962779   27.01472143   18.58827819]\n",
      " [ 225.78323118  331.40592861   28.43110375   17.8211582 ]\n",
      " [ 266.50521724  343.28308758   34.87709005   17.11886624]\n",
      " [ 297.73018227  366.16533904   33.98706486   17.49986145]\n",
      " [ 337.34538434  386.88283779   36.44034404   17.64812827]\n",
      " [ 366.95680903  402.655109     40.64551063   22.19337628]\n",
      " [ 403.74733265  411.19750253   43.17423662   20.69935897]\n",
      " [ 449.23332993  435.3210934    41.19793447   23.65470765]\n",
      " [ 494.09186297  463.47156566   43.40125866   25.22112327]\n",
      " [ 539.19026702  487.69752413   46.49943122   24.66694699]\n",
      " [ 592.08168414  519.737947     45.92417564   25.9112807 ]\n",
      " [ 650.66091764  545.14367741   49.07136005   25.64036719]\n",
      " [ 699.43485119  573.18068599   54.99729741   27.90341481]\n",
      " [ 751.01292027  603.74467758   53.34252404   31.00508146]\n",
      " [ 816.97913951  631.76786789   57.69230851   33.04747001]\n",
      " [ 869.852784    650.01226703   58.58062837   31.35326143]\n",
      " [ 933.92263032  667.58486021   62.74259143   31.26839296]\n",
      " [ 984.12927727  696.18501122   62.24512609   35.54506433]\n",
      " [1054.48737738  737.30147783   67.67551232   37.10597301]\n",
      " [1129.05178918  768.11277589   66.42170943   39.28744507]\n",
      " [1195.31635192  795.07727614   66.99721813   37.85226642]\n",
      " [1263.26394744  826.19857024   73.19048991   38.35763634]\n",
      " [1342.33049461  866.23278325   71.00983047   38.00117595]\n",
      " [1422.44567369  901.17184285   72.89439216   37.60715149]\n",
      " [1502.39252792  951.52112599   77.66727652   40.32779097]\n",
      " [1592.48624099  997.17713336   79.57697925   40.27521713]\n",
      " [1664.70613067 1050.68473525   79.9983862    40.92655539]\n",
      " [1753.46202362 1110.94883978   84.52358126   43.75653261]\n",
      " [1829.02833508 1155.34794711   88.21887697   46.01978549]\n",
      " [1895.1898131  1211.65108373   86.8982039    48.23162432]\n",
      " [1964.41200545 1273.08805306   86.95812258   49.45825255]\n",
      " [2041.65862687 1330.93835855   91.50313855   51.56944053]\n",
      " [2113.45481055 1394.07768948   91.10375116   52.36587171]\n",
      " [2207.28384615 1448.35289365   91.13202899   49.88488135]\n",
      " [2313.52904447 1509.3100442    92.00332395   52.61513872]\n",
      " [2408.39057343 1571.15040702   97.86132638   55.02898177]\n",
      " [2506.68112574 1628.36015934  100.90170534   55.05597514]\n",
      " [2606.60215137 1671.6834031   104.85966056   53.67667197]\n",
      " [2701.13133784 1714.05109522  102.605308     54.87464005]\n",
      " [2814.79955849 1761.2071018   108.92652228   57.70238629]\n",
      " [2913.06800056 1822.47740738  110.37956984   59.98167219]\n",
      " [3030.58048188 1884.36598009  113.2426249    58.61281986]\n",
      " [3154.41347169 1939.3310036   115.08110797   58.58771216]\n",
      " [3284.87866547 1992.39974722  117.17382863   59.24592828]\n",
      " [3402.02744212 2056.62813987  114.97940491   62.38160076]\n",
      " [3514.60290946 2128.95964875  117.05894412   63.58353268]\n",
      " [3624.06850729 2196.47594396  118.6462515    65.15949237]\n",
      " [3730.65670662 2261.56741428  121.47920871   63.35116476]]\n"
     ]
    }
   ],
   "source": [
    "finalc = []\n",
    "for i in range(int(final_calculated.shape[0]/4)):\n",
    "    tempc = []\n",
    "    for j in range(4*i, 4*(i+1)):\n",
    "        tempc.append(final_calculated[j])\n",
    "    finalc.append(tempc)\n",
    "    \n",
    "finalc = np.array(finalc)\n",
    "print(finalc)"
   ]
  },
  {
   "cell_type": "code",
   "execution_count": 18,
   "metadata": {},
   "outputs": [
    {
     "data": {
      "text/plain": [
       "Text(0, 0.5, 'Position Y (in m)')"
      ]
     },
     "execution_count": 18,
     "metadata": {},
     "output_type": "execute_result"
    },
    {
     "data": {
      "image/png": "[encoded data removed]",
      "text/plain": [
       "<Figure size 1200x800 with 1 Axes>"
      ]
     },
     "metadata": {},
     "output_type": "display_data"
    }
   ],
   "source": [
    "plt.figure(figsize=(12,8))\n",
    "plt.plot(finalc[:15,0], finalc[:15,1], label=\"Obsereved\")\n",
    "plt.plot(finali[:15,0], finali[:15,1], label=\"Calculated\")\n",
    "plt.plot(final0[:15,0], final0[:15,1], label=\"Predicted\")\n",
    "plt.legend()\n",
    "plt.title(\"Calculated Position Values\")\n",
    "plt.xlabel(\"Position X (in m)\")\n",
    "plt.ylabel(\"Position Y (in m)\")\n",
    "\n",
    "# plt.xticks(finalc[18:23,0])\n",
    "# plt.show()"
   ]
  }
 ],
 "metadata": {
  "kernelspec": {
   "display_name": "Python 3",
   "language": "python",
   "name": "python3"
  },
  "language_info": {
   "codemirror_mode": {
    "name": "ipython",
    "version": 3
   },
   "file_extension": ".py",
   "mimetype": "text/x-python",
   "name": "python",
   "nbconvert_exporter": "python",
   "pygments_lexer": "ipython3",
   "version": "3.11.2"
  },
  "orig_nbformat": 4
 },
 "nbformat": 4,
 "nbformat_minor": 2
}
